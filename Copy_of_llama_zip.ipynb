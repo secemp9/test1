{
  "nbformat": 4,
  "nbformat_minor": 0,
  "metadata": {
    "colab": {
      "provenance": [],
      "gpuType": "T4"
    },
    "kernelspec": {
      "name": "python3",
      "display_name": "Python 3"
    },
    "language_info": {
      "name": "python"
    },
    "accelerator": "GPU",
    "widgets": {
      "application/vnd.jupyter.widget-state+json": {
        "88c72d73d30942a98e6a643d36d6ecbc": {
          "model_module": "@jupyter-widgets/controls",
          "model_name": "ButtonModel",
          "model_module_version": "1.5.0",
          "state": {
            "_dom_classes": [],
            "_model_module": "@jupyter-widgets/controls",
            "_model_module_version": "1.5.0",
            "_model_name": "ButtonModel",
            "_view_count": null,
            "_view_module": "@jupyter-widgets/controls",
            "_view_module_version": "1.5.0",
            "_view_name": "ButtonView",
            "button_style": "success",
            "description": "✔ Done!",
            "disabled": true,
            "icon": "",
            "layout": "IPY_MODEL_c1c3f45926ef4b0c92fb3b2e0edbe178",
            "style": "IPY_MODEL_a1e74c7f871440f4a5582c3d8a0cbd6d",
            "tooltip": ""
          }
        },
        "c1c3f45926ef4b0c92fb3b2e0edbe178": {
          "model_module": "@jupyter-widgets/base",
          "model_name": "LayoutModel",
          "model_module_version": "1.2.0",
          "state": {
            "_model_module": "@jupyter-widgets/base",
            "_model_module_version": "1.2.0",
            "_model_name": "LayoutModel",
            "_view_count": null,
            "_view_module": "@jupyter-widgets/base",
            "_view_module_version": "1.2.0",
            "_view_name": "LayoutView",
            "align_content": null,
            "align_items": null,
            "align_self": null,
            "border": null,
            "bottom": null,
            "display": null,
            "flex": null,
            "flex_flow": null,
            "grid_area": null,
            "grid_auto_columns": null,
            "grid_auto_flow": null,
            "grid_auto_rows": null,
            "grid_column": null,
            "grid_gap": null,
            "grid_row": null,
            "grid_template_areas": null,
            "grid_template_columns": null,
            "grid_template_rows": null,
            "height": null,
            "justify_content": null,
            "justify_items": null,
            "left": null,
            "margin": null,
            "max_height": null,
            "max_width": null,
            "min_height": null,
            "min_width": "60px",
            "object_fit": null,
            "object_position": null,
            "order": null,
            "overflow": null,
            "overflow_x": null,
            "overflow_y": null,
            "padding": null,
            "right": null,
            "top": null,
            "visibility": null,
            "width": null
          }
        },
        "a1e74c7f871440f4a5582c3d8a0cbd6d": {
          "model_module": "@jupyter-widgets/controls",
          "model_name": "ButtonStyleModel",
          "model_module_version": "1.5.0",
          "state": {
            "_model_module": "@jupyter-widgets/controls",
            "_model_module_version": "1.5.0",
            "_model_name": "ButtonStyleModel",
            "_view_count": null,
            "_view_module": "@jupyter-widgets/base",
            "_view_module_version": "1.2.0",
            "_view_name": "StyleView",
            "button_color": null,
            "font_weight": ""
          }
        }
      }
    }
  },
  "cells": [
    {
      "cell_type": "code",
      "execution_count": null,
      "metadata": {
        "id": "YzTMsFMDc-L-",
        "outputId": "ed06ee22-6696-48fd-da09-7466f6e784da",
        "colab": {
          "base_uri": "https://localhost:8080/",
          "height": 49,
          "referenced_widgets": [
            "88c72d73d30942a98e6a643d36d6ecbc",
            "c1c3f45926ef4b0c92fb3b2e0edbe178",
            "a1e74c7f871440f4a5582c3d8a0cbd6d"
          ]
        }
      },
      "outputs": [
        {
          "output_type": "display_data",
          "data": {
            "text/plain": [
              "Button(button_style='success', description='✔ Done!', disabled=True, layout=Layout(min_width='60px'), style=Bu…"
            ],
            "application/vnd.jupyter.widget-view+json": {
              "version_major": 2,
              "version_minor": 0,
              "model_id": "88c72d73d30942a98e6a643d36d6ecbc"
            }
          },
          "metadata": {}
        }
      ],
      "source": [
        "#@markdown # Installation!\n",
        "\n",
        "from IPython.display import clear_output\n",
        "import ipywidgets as widgets\n",
        "def inf(msg, style, wdth): inf = widgets.Button(description=msg, disabled=True, button_style=style, layout=widgets.Layout(min_width=wdth));display(inf)\n",
        "\n",
        "!git clone https://github.com/alexbuz/llama-zip.git\n",
        "%cd llama-zip\n",
        "!wget https://huggingface.co/QuantFactory/Meta-Llama-3-8B-GGUF/resolve/main/Meta-Llama-3-8B.Q8_0.gguf\n",
        "%pip install .\n",
        "\n",
        "clear_output()\n",
        "inf('\\u2714 Done!','success', '60px')"
      ]
    },
    {
      "cell_type": "code",
      "source": [
        "#@markdown # Start Interactive Mode (Recommended)\n",
        "!llama-zip ./Meta-Llama-3-8B.Q8_0.gguf -i"
      ],
      "metadata": {
        "id": "DNOnwChzd7IL",
        "outputId": "3b6ff58c-1604-43bd-fd49-068dfcec7ed7",
        "colab": {
          "base_uri": "https://localhost:8080/"
        }
      },
      "execution_count": null,
      "outputs": [
        {
          "output_type": "stream",
          "name": "stdout",
          "text": [
            "≥≥≥ test\n",
            "Question:\n",
            "Suppose -2*r - 3719 = 3*r + i, 5 = -5*i. Let n = r - -392. Is 3/8 greater than n?\n",
            "Answer:\n",
            "True\n",
            "\n",
            "≥≥≥ do you know the truth\n",
            "ZyDY8Jyog\n",
            "\n",
            "≥≥≥ testme\n",
            "Question:\n",
            "Suppose -2*r - 417 + 1106 = 5*j, 0 = -5*j + 25. List the prime factors of r.\n",
            "Answer:\n",
            "3, 17\n",
            "\n",
            "≥≥≥ test list prime factor\n",
            "Xe+y/+I8mIQ\n",
            "\n",
            "≥≥≥ 4bd84c0c58be5204c715c82ce55b06a5beb66a8583312699980d892de44170cdc4ccca7e5db8873d2dd341fdd95fddcd16db9d0405b368984a7c7ed8584c3c006983bcb4505c3782c6da3729b4aaf1029adf892825b007f59db89cd9b7cba6ad18ab24f2\n",
            "North Carolina's 64th Judicial District consists of the counties of Caswell, Person and Rockingham. \n",
            "The District Attorney is responsible for prosecuting all criminal matters and child abuse and neglect matters in the District Courts. The DA's Office has a staff of over sixty employees, including the District Attorney and two Assistant District Attorneys. \n",
            "The District Attorney is accountable to the District Attorney's Office, located in the Person County Courthouse Building. The address of the District Attorney's Office is 125 W. Palmer Street, Roxboro, NC  27573-2246. \n",
            "District Court sessions are held in each of the three counties of our judicial district.\n",
            "Court Dates ##### Meetings held ##### Building ##### Room ##### Times\n",
            "Caswell Co. Caswell Co. Clerk's Meeting Room Caswell Co. Courthouse     \n",
            "Person Co. Person Co. Clerk's Meeting Room Person Co. Courthouse     \n",
            "Rockingham Co. Rockingham Co. Clerk's Meeting Room Rockingham Co. Courthouse     \n",
            "If you would like to submit a compliment to a member of the District Attorney's staff, please click on this link to fill out a compliment form . It will then be emailed to the office at the completion of the form.\n",
            "If you would like to submit a complaint about a jury you have served on, a judge that has presided over your case, or a prosecutor who has handled your case, please click on this to link to fill out a complaint form . This form will also be emailed to the office at the completion of the form.\n",
            "\n",
            "≥≥≥ \n",
            "Traceback (most recent call last):\n",
            "  File \"/usr/local/lib/python3.10/dist-packages/llama_zip.py\", line 332, in main\n",
            "    string = input(\"≥≥≥ \")\n",
            "KeyboardInterrupt\n",
            "\n",
            "During handling of the above exception, another exception occurred:\n",
            "\n",
            "Traceback (most recent call last):\n",
            "  File \"/usr/local/bin/llama-zip\", line 8, in <module>\n",
            "    sys.exit(main())\n",
            "  File \"/usr/local/lib/python3.10/dist-packages/llama_zip.py\", line 342, in main\n",
            "    print(file=sys.stderr)\n",
            "KeyboardInterrupt\n",
            "^C\n"
          ]
        }
      ]
    },
    {
      "cell_type": "code",
      "source": [
        "#@markdown # Compress Text\n",
        "Text = \"Your Text\" #@param {type:\"string\"}\n",
        "\n",
        "!llama-zip ./Meta-Llama-3-8B.Q8_0.gguf -c $Text"
      ],
      "metadata": {
        "id": "QqypLcS2dYZ4"
      },
      "execution_count": null,
      "outputs": []
    },
    {
      "cell_type": "code",
      "source": [
        "#@markdown # Decompress Text\n",
        "Tokens = \"\" #@param {type:\"string\"}\n",
        "\n",
        "!llama-zip ./Meta-Llama-3-8B.Q8_0.gguf -d $Tokens"
      ],
      "metadata": {
        "id": "4q4UcjaMeAxp"
      },
      "execution_count": null,
      "outputs": []
    },
    {
      "cell_type": "markdown",
      "source": [
        "# 📦 Repo: [Github](https://github.com/AlexBuz/llama-zip)\n",
        "### Colab file by laVashik"
      ],
      "metadata": {
        "id": "h1dXmnAxkeGo"
      }
    }
  ]
}